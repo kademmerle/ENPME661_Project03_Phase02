{
 "cells": [
  {
   "cell_type": "code",
   "execution_count": 34,
   "id": "467396dd",
   "metadata": {},
   "outputs": [],
   "source": [
    "import cv2\n",
    "import numpy as np\n",
    "import math\n",
    "from matplotlib import pyplot as plt"
   ]
  },
  {
   "cell_type": "code",
   "execution_count": null,
   "id": "9c6aa891",
   "metadata": {},
   "outputs": [],
   "source": [
    "h = 300\n",
    "w = 540\n",
    "walls_map = np.zeros((h,w,1))\n",
    "walls_map = cv2.rectangle(walls_map, (0,0),(w-1,h-1),255,20) #border\n",
    "walls_map = cv2.rectangle(walls_map, (100,h-1),(110,100),255,-1) #obstacle 1\n",
    "walls_map = cv2.rectangle(walls_map, (210,0),(220,h-1-100),255,-1)\n",
    "walls_map = cv2.rectangle(walls_map,(320,0),(330,100),255,-1)\n",
    "walls_map = cv2.rectangle(walls_map,(320,h-1),(330,200),255,-1)\n",
    "walls_map = cv2.rectangle(walls_map, (430,h-1),(440,100),255,-1)\n",
    "\n",
    "def show(image):\n",
    "    cv2.imshow(\"image\",image)\n",
    "    cv2.waitKey(0)\n",
    "    cv2.destroyAllWindows()\n",
    "\n"
   ]
  },
  {
   "cell_type": "code",
   "execution_count": null,
   "id": "f5571ec7",
   "metadata": {},
   "outputs": [],
   "source": []
  },
  {
   "cell_type": "code",
   "execution_count": 36,
   "id": "6c01adad",
   "metadata": {},
   "outputs": [],
   "source": [
    "robot_radius = 22\n",
    "L = 28.7 #wheel distance\n",
    "wheel_diameter = 6\n",
    "r = 3.3 #wheel radius\n",
    "\n",
    "#turn_radius = 14.35\n",
    "clearance = 0\n",
    "buffer = robot_radius+clearance\n",
    "dt = 0.1\n",
    "\n",
    "walls_set = set()\n",
    "buffer_set = set()\n",
    "\n",
    "walls_coord = np.where(walls_map==255)\n",
    "\n",
    "for i in range(0,len(walls_coord[0])):\n",
    "    xy = (walls_coord[1][i],walls_coord[0][i])\n",
    "    walls_set.add(xy)\n",
    "\n",
    "map_buffer = np.zeros((h,w,1))\n",
    "\n",
    "for item in walls_set:\n",
    "    map_buffer = cv2.circle(map_buffer,item,buffer,255,-1)\n",
    "buffer_coord = np.where(map_buffer==255)\n",
    "for i in range(0,len(buffer_coord[0])):\n",
    "    xy = (buffer_coord[1][i],buffer_coord[0][i])\n",
    "    if xy not in walls_set:\n",
    "        buffer_set.add(xy)\n",
    "\n",
    "map = np.zeros((h,w,3),dtype=np.uint8)\n",
    "for item in walls_set:\n",
    "    map[item[1],item[0]] = (255,0,0)\n",
    "\n",
    "for item in buffer_set:\n",
    "    map[item[1],item[0]] = (0,255,0)\n",
    "\n",
    "\n",
    "\n",
    "\n"
   ]
  },
  {
   "cell_type": "code",
   "execution_count": null,
   "id": "92227a23",
   "metadata": {},
   "outputs": [
    {
     "data": {
      "image/png": "[encoded data removed]",
      "text/plain": [
       "<Figure size 640x480 with 1 Axes>"
      ]
     },
     "metadata": {},
     "output_type": "display_data"
    }
   ],
   "source": [
    "pi = math.pi\n",
    "def move(position,u_l,u_r):\n",
    "    x,y,theta = position\n",
    "    dx = (r/2)*(u_l+u_r)*np.cos(theta)*dt\n",
    "    dy = (r/2)*(u_l+u_r)*np.sin(theta)*dt\n",
    "    dtheta = (r/L)*(u_r-u_l)*dt\n",
    "    x += dx\n",
    "    y += dy\n",
    "    theta += dtheta\n",
    "\n",
    "    if theta > 2*pi:\n",
    "        theta -= 2*pi\n",
    "    elif theta < 0:\n",
    "        theta += 2*pi\n",
    "    \n",
    "    return (x,y,theta)\n",
    "\n",
    "\n",
    "\n",
    "\n"
   ]
  }
 ],
 "metadata": {
  "kernelspec": {
   "display_name": "Python 3",
   "language": "python",
   "name": "python3"
  },
  "language_info": {
   "codemirror_mode": {
    "name": "ipython",
    "version": 3
   },
   "file_extension": ".py",
   "mimetype": "text/x-python",
   "name": "python",
   "nbconvert_exporter": "python",
   "pygments_lexer": "ipython3",
   "version": "3.8.10"
  }
 },
 "nbformat": 4,
 "nbformat_minor": 5
}
